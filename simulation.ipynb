{
 "cells": [
  {
   "cell_type": "markdown",
   "metadata": {},
   "source": [
    "# Simulación de Gestión de Inventario en una Tienda\n",
    "[Ejemplo 7.6 del libro \"Simulation, Fifth Edition by Sheldon M. Ross\"]\n",
    "\n",
    "### _*Situación:*_ \n",
    "Una tienda vende un producto a un precio fijo por unidad. Los clientes llegan según un proceso Poisson y demandan cantidades aleatorias. La tienda utiliza una política de inventario (s, S) para reponer stock cuando el nivel es bajo.\n",
    "\n",
    "### _*Objetivos:*_\n",
    "\n",
    "- Estimar el beneficio esperado hasta un tiempo T\n",
    "\n",
    "- Evaluar políticas de inventario óptimas\n"
   ]
  },
  {
   "cell_type": "markdown",
   "metadata": {},
   "source": [
    "### 1. Definir Parámetros y Distribuciones "
   ]
  },
  {
   "cell_type": "code",
   "execution_count": 3,
   "metadata": {},
   "outputs": [],
   "source": [
    "import numpy as np\n",
    "import pandas as pd\n",
    "import matplotlib.pyplot as plt\n",
    "import seaborn as sns\n",
    "\n",
    "# --- Parámetros Fijos ---\n",
    "params = {\n",
    "    \"lambda\": 2,          # Tasa promedio de llegada de clientes (Poisson)\n",
    "    \"r\": 10,              # Precio de venta por unidad ($)\n",
    "    \"h\": 0.5,             # Costo de almacenamiento por unidad/tiempo ($)\n",
    "    \"L\": 2,               # Tiempo de entrega (lead time)\n",
    "    \"s\": 5,               # Punto de reorden (s)\n",
    "    \"S\": 20,              # Nivel máximo de inventario (S)\n",
    "    \"T\": 30,              # Tiempo total de simulación (horas/días)\n",
    "    \"c\": lambda y: 5 * y  # Costo variable de ordenar y unidades ($5 por unidad)\n",
    "}\n",
    "\n",
    "# --- Distribución de Demanda (G) ---\n",
    "# Decisión: Usar distribución geométrica con p=0.3 (justificación abajo)\n",
    "params[\"demand_dist\"] = lambda: np.random.geometric(p=0.3) + 1  # +1 para evitar demanda=0"
   ]
  },
  {
   "cell_type": "markdown",
   "metadata": {},
   "source": [
    "Justificación de la distribución geométrica:\n",
    "\n",
    "- Es común modelar demandas discretas con distribuciones como Poisson, binomial negativa o geométrica.\n",
    "\n",
    "- Elegí la geométrica porque modela el número de intentos hasta el primer éxito, lo que podría representar clientes que compran hasta agotar un stock mínimo. El +1 asegura que la demanda mínima sea 1."
   ]
  },
  {
   "cell_type": "markdown",
   "metadata": {},
   "source": [
    "### 2. Función de Simulación (Eventos Discretos)"
   ]
  },
  {
   "cell_type": "code",
   "execution_count": 1,
   "metadata": {},
   "outputs": [],
   "source": [
    "def run_simulation(params):\n",
    "    # Inicialización del estado del sistema\n",
    "    t = 0                  # Tiempo actual\n",
    "    x = params[\"S\"]        # Inventario inicial (lleno al máximo S)\n",
    "    y = 0                  # Unidades pendientes de entrega\n",
    "    C = 0                  # Costo total de órdenes\n",
    "    H = 0                  # Costo total de almacenamiento\n",
    "    R = 0                  # Ingresos totales por ventas\n",
    "    \n",
    "    # Programación de eventos iniciales\n",
    "    t0 = t - np.log(np.random.uniform()) / params[\"lambda\"]  # Próxima llegada de cliente\n",
    "    t1 = np.inf            # No hay órdenes pendientes al inicio\n",
    "\n",
    "    # Bucle principal de eventos\n",
    "    while t < params[\"T\"]:\n",
    "        if t0 < t1:  # Evento: Llegada de cliente\n",
    "            # Actualizar costos de almacenamiento hasta t0\n",
    "            H += (t0 - t) * x * params[\"h\"]\n",
    "            t = t0  # Avanzar el tiempo\n",
    "            \n",
    "            # Generar demanda del cliente\n",
    "            D = params[\"demand_dist\"]()\n",
    "            w = min(D, x)  # Unidades que se pueden vender\n",
    "            \n",
    "            # Actualizar inventario e ingresos\n",
    "            R += w * params[\"r\"]\n",
    "            x -= w\n",
    "            \n",
    "            # Decidir si ordenar más (política s, S)\n",
    "            if x < params[\"s\"] and y == 0:\n",
    "                y = params[\"S\"] - x  # Cantidad a ordenar\n",
    "                t1 = t + params[\"L\"]  # Programar entrega\n",
    "            \n",
    "            # Programar próxima llegada de cliente\n",
    "            t0 = t - np.log(np.random.uniform()) / params[\"lambda\"]\n",
    "            \n",
    "        else:  # Evento: Entrega de orden\n",
    "            # Actualizar costos de almacenamiento hasta t1\n",
    "            H += (t1 - t) * x * params[\"h\"]\n",
    "            t = t1  # Avanzar el tiempo\n",
    "            \n",
    "            # Recibir la orden y actualizar costos\n",
    "            C += params[\"c\"](y)\n",
    "            x += y\n",
    "            y = 0\n",
    "            t1 = np.inf  # No hay órdenes pendientes\n",
    "\n",
    "    # Calcular ganancia promedio por unidad de tiempo\n",
    "    avg_profit = (R - C - H) / params[\"T\"]\n",
    "    return {\"avg_profit\": avg_profit, \"total_revenue\": R, \"total_cost\": C + H}"
   ]
  },
  {
   "cell_type": "markdown",
   "metadata": {},
   "source": [
    "- Inventario inicial: Se inicia en S para simular un sistema que comienza lleno.\n",
    "\n",
    "- Programación de eventos: $t_0$ y $t_1$ se actualizan dinámicamente según los eventos (llegadas o entregas).\n",
    "\n",
    "- Política (s, S): Solo se ordena si el inventario está por debajo de s y no hay órdenes pendientes."
   ]
  },
  {
   "cell_type": "markdown",
   "metadata": {},
   "source": [
    "### 3. Ejecutar Múltiples Réplicas"
   ]
  },
  {
   "cell_type": "code",
   "execution_count": 4,
   "metadata": {},
   "outputs": [
    {
     "name": "stdout",
     "output_type": "stream",
     "text": [
      "        avg_profit  total_revenue   total_cost\n",
      "count  1000.000000    1000.000000  1000.000000\n",
      "mean     22.945327    1446.070000   757.710177\n",
      "std       3.049217     144.085446    68.632906\n",
      "min      14.114457    1050.000000   537.572836\n",
      "25%      20.908075    1340.000000   716.454652\n",
      "50%      23.132745    1450.000000   753.910215\n",
      "75%      24.968965    1540.000000   808.370685\n",
      "max      32.333411    1910.000000   945.855885\n"
     ]
    }
   ],
   "source": [
    "# Ejecutar 1000 réplicas para obtener una distribución estable\n",
    "n_runs = 1000\n",
    "results = [run_simulation(params) for _ in range(n_runs)]\n",
    "\n",
    "# Convertir resultados a DataFrame para análisis\n",
    "df = pd.DataFrame(results)\n",
    "print(df.describe())"
   ]
  },
  {
   "cell_type": "markdown",
   "metadata": {},
   "source": [
    "### 4. Generar gráficas descriptivas"
   ]
  },
  {
   "cell_type": "markdown",
   "metadata": {},
   "source": [
    "Gráfico 1: Distribución de Ganancias Promedio (histograma de ganancias)"
   ]
  },
  {
   "cell_type": "code",
   "execution_count": null,
   "metadata": {},
   "outputs": [],
   "source": [
    "plt.figure(figsize=(10, 6))\n",
    "sns.histplot(df[\"avg_profit\"], kde=True, bins=30)\n",
    "plt.title(\"Distribución de Ganancias Promedio (1000 simulaciones)\")\n",
    "plt.xlabel(\"Ganancia por unidad de tiempo ($)\")\n",
    "plt.ylabel(\"Frecuencia\")\n",
    "plt.show()"
   ]
  },
  {
   "cell_type": "markdown",
   "metadata": {},
   "source": [
    "Gráfico 2: Relación entre Ingresos y Costos (Scatterplot de ingresos vs costos)"
   ]
  },
  {
   "cell_type": "code",
   "execution_count": null,
   "metadata": {},
   "outputs": [],
   "source": [
    "plt.figure(figsize=(10, 6))\n",
    "sns.scatterplot(data=df, x=\"total_revenue\", y=\"total_cost\", alpha=0.5)\n",
    "plt.title(\"Relación entre Ingresos y Costos Totales\")\n",
    "plt.xlabel(\"Ingresos Totales ($)\")\n",
    "plt.ylabel(\"Costos Totales ($)\")\n",
    "plt.show()"
   ]
  },
  {
   "cell_type": "markdown",
   "metadata": {},
   "source": [
    "### 5. Experimentación con Diferentes Políticas (s, S)\n",
    "\n",
    "Para comparar políticas, variamos s y S:"
   ]
  },
  {
   "cell_type": "code",
   "execution_count": 7,
   "metadata": {},
   "outputs": [],
   "source": [
    "# Definir políticas a probar\n",
    "# Nuevos rangos más amplios\n",
    "s_values = list(range(1, 11))\n",
    "S_values = list(range(15, 31))\n",
    "\n",
    "# Resultados del experimento extendido\n",
    "from scipy import stats\n",
    "\n",
    "extended_results = []\n",
    "n_replicas = 200\n",
    "\n",
    "for s in s_values:\n",
    "    for S in S_values:\n",
    "        if s < S:\n",
    "            params[\"s\"], params[\"S\"] = s, S\n",
    "            runs = [run_simulation(params) for _ in range(n_replicas)]\n",
    "            profits = [r[\"avg_profit\"] for r in runs]\n",
    "            mean = np.mean(profits)\n",
    "            std = np.std(profits, ddof=1)\n",
    "            ci_low, ci_high = stats.norm.interval(0.95, loc=mean, scale=std/np.sqrt(n_replicas))\n",
    "            extended_results.append({\n",
    "                \"s\": s, \"S\": S, \"mean\": mean,\n",
    "                \"std\": std, \"ci_low\": ci_low, \"ci_high\": ci_high\n",
    "            })\n",
    "\n",
    "df_extended = pd.DataFrame(extended_results)"
   ]
  },
  {
   "cell_type": "markdown",
   "metadata": {},
   "source": [
    "Se evalúan todas las combinaciones posibles de políticas (s, S) con $ s \\in [1, 10] $ y $ S \\in [15, 30] $, ejecutando 200 réplicas por política. Se calcula la media, desviación estándar y el intervalo de confianza del 95% para la ganancia promedio."
   ]
  },
  {
   "cell_type": "code",
   "execution_count": null,
   "metadata": {},
   "outputs": [],
   "source": [
    "pivot_mean = df_extended.pivot(index=\"s\", columns=\"S\", values=\"mean\")\n",
    "plt.figure(figsize=(12, 6))\n",
    "sns.heatmap(pivot_mean, annot=True, fmt=\".2f\", cmap=\"YlGnBu\")\n",
    "plt.title(\"Heatmap de Ganancia Promedio - Políticas (s, S)\")\n",
    "plt.xlabel(\"S\")\n",
    "plt.ylabel(\"s\")\n",
    "plt.tight_layout()\n",
    "plt.show()\n"
   ]
  },
  {
   "cell_type": "markdown",
   "metadata": {},
   "source": [
    "Mapa de calor con la ganancia promedio obtenida para cada combinación de política (s, S). Se puede observar claramente la tendencia creciente de la ganancia al aumentar los valores de S."
   ]
  },
  {
   "cell_type": "code",
   "execution_count": null,
   "metadata": {},
   "outputs": [],
   "source": [
    "plt.figure(figsize=(12, 6))\n",
    "for s_val in sorted(df_extended[\"s\"].unique()):\n",
    "    subset = df_extended[df_extended[\"s\"] == s_val]\n",
    "    plt.errorbar(subset[\"S\"], subset[\"mean\"], yerr=subset[\"std\"]/np.sqrt(n_replicas),\n",
    "                 capsize=3, label=f\"s={s_val}\", alpha=0.7)\n",
    "plt.title(\"Intervalos de Confianza 95% - Ganancia Promedio por Política\")\n",
    "plt.xlabel(\"S\")\n",
    "plt.ylabel(\"Ganancia Promedio\")\n",
    "plt.legend()\n",
    "plt.tight_layout()\n",
    "plt.show()"
   ]
  },
  {
   "cell_type": "markdown",
   "metadata": {},
   "source": [
    "Este gráfico muestra las ganancias promedio por política para distintos valores de s, con barras de error representando los intervalos de confianza del 95%."
   ]
  },
  {
   "cell_type": "code",
   "execution_count": 10,
   "metadata": {},
   "outputs": [
    {
     "name": "stdout",
     "output_type": "stream",
     "text": [
      "Top 5 políticas según ganancia promedio:\n",
      "      s   S       mean       std     ci_low    ci_high\n",
      "159  10  30  28.094725  4.371479  27.488880  28.700570\n",
      "158  10  29  27.868739  4.410259  27.257519  28.479958\n",
      "143   9  30  27.626049  3.930933  27.081259  28.170838\n",
      "111   7  30  27.624861  4.444225  27.008934  28.240788\n",
      "157  10  28  27.599753  4.072014  27.035411  28.164095\n"
     ]
    }
   ],
   "source": [
    "top5 = df_extended.sort_values(\"mean\", ascending=False).head(5)\n",
    "print(\"Top 5 políticas según ganancia promedio:\")\n",
    "print(top5)"
   ]
  }
 ],
 "metadata": {
  "kernelspec": {
   "display_name": ".venv",
   "language": "python",
   "name": "python3"
  },
  "language_info": {
   "codemirror_mode": {
    "name": "ipython",
    "version": 3
   },
   "file_extension": ".py",
   "mimetype": "text/x-python",
   "name": "python",
   "nbconvert_exporter": "python",
   "pygments_lexer": "ipython3",
   "version": "3.13.2"
  }
 },
 "nbformat": 4,
 "nbformat_minor": 2
}
